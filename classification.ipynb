{
 "cells": [
  {
   "cell_type": "code",
   "execution_count": 1,
   "metadata": {},
   "outputs": [
    {
     "name": "stdout",
     "output_type": "stream",
     "text": [
      "Menu: \n",
      ">> 1. Extract features\n",
      ">> 2. SVM classification\n",
      ">> 3. KNN classification\n",
      ">> 4. MLP classification\n",
      ">> 5. Normalize\n",
      ">> 6. Show means\n",
      ">> 0. Quit\n",
      "Select your option: 0\n",
      "\n"
     ]
    }
   ],
   "source": [
    "import main\n",
    "import matplotlib\n",
    "import matplotlib.pyplot as plt\n",
    "import numpy as np\n",
    "import itertools\n",
    "from sklearn.metrics import accuracy_score\n",
    "from sklearn.metrics import classification_report,confusion_matrix\n",
    "\n",
    "import importlib\n",
    "\n",
    "%matplotlib inline \n",
    "matplotlib.rcParams['figure.figsize'] = 8, 6"
   ]
  },
  {
   "cell_type": "code",
   "execution_count": 2,
   "metadata": {},
   "outputs": [
    {
     "name": "stdout",
     "output_type": "stream",
     "text": [
      "Menu: \n",
      ">> 1. Extract features\n",
      ">> 2. SVM classification\n",
      ">> 3. KNN classification\n",
      ">> 4. MLP classification\n",
      ">> 5. Normalize\n",
      ">> 6. Show means\n",
      ">> 0. Quit\n",
      "Select your option: 0\n",
      "\n"
     ]
    },
    {
     "data": {
      "text/plain": [
       "<module 'main' from 'C:\\\\Users\\\\Sveta\\\\Desktop\\\\sctest\\\\sc_project_skin_lesions\\\\main.py'>"
      ]
     },
     "execution_count": 2,
     "metadata": {},
     "output_type": "execute_result"
    }
   ],
   "source": [
    "importlib.reload(main)"
   ]
  },
  {
   "cell_type": "code",
   "execution_count": 3,
   "metadata": {},
   "outputs": [],
   "source": [
    "def plot_confusion_matrix(cm, classes,\n",
    "                          title='Confusion matrix',\n",
    "                          cmap=plt.cm.Blues):\n",
    "    \n",
    "    fig = plt.figure()\n",
    "    plt.imshow(cm, interpolation='nearest', cmap=cmap)\n",
    "    plt.title(title)\n",
    "    plt.colorbar()\n",
    "    tick_marks = np.arange(len(classes))\n",
    "    plt.xticks(tick_marks, classes, rotation=45)\n",
    "    plt.yticks(tick_marks, classes)\n",
    "\n",
    "    cm = cm.astype('float') / cm.sum(axis=1)[:, np.newaxis]\n",
    "\n",
    "    fmt = '.2f'\n",
    "    thresh = cm.max() / 2.\n",
    "    for i, j in itertools.product(range(cm.shape[0]), range(cm.shape[1])):\n",
    "        plt.text(j, i, format(cm[i, j], fmt),\n",
    "                 horizontalalignment=\"center\",\n",
    "                 color=\"white\" if cm[i, j] > thresh else \"black\")\n",
    "\n",
    "    plt.tight_layout()\n",
    "    plt.ylabel('True label')\n",
    "    plt.xlabel('Predicted label')\n",
    "    plt.tight_layout()"
   ]
  },
  {
   "cell_type": "code",
   "execution_count": 44,
   "metadata": {},
   "outputs": [
    {
     "name": "stdout",
     "output_type": "stream",
     "text": [
      "Train accuracy:  0.7910247823174816\n",
      "Validation accuracy:  0.7956318252730109\n"
     ]
    },
    {
     "data": {
      "image/png": "[encoded data removed]",
      "text/plain": [
       "<Figure size 432x288 with 2 Axes>"
      ]
     },
     "metadata": {},
     "output_type": "display_data"
    }
   ],
   "source": [
    "x_train, x_test, y_train, y_test = main.prepare() \n",
    "            \n",
    "predicted_train, predicted_test = main.run_SVM(x_train, x_test, y_train, y_test)\n",
    "\n",
    "cm = confusion_matrix(y_test,predicted_test)\n",
    "plot_confusion_matrix(cm, classes=['Benign', 'Malignant'])"
   ]
  },
  {
   "cell_type": "code",
   "execution_count": 45,
   "metadata": {},
   "outputs": [
    {
     "name": "stdout",
     "output_type": "stream",
     "text": [
      "Tacnost : 0.80\n",
      "Odziv : 0.68\n",
      "Preciznost 0.84\n",
      "F1 rezultat 0.75\n"
     ]
    }
   ],
   "source": [
    "tn, fp, fn, tp = cm.ravel()\n",
    "\n",
    "precision = tp/(tp+fp)\n",
    "recall = tp/(tp+fn)\n",
    "f1_score = 2*((precision*recall)/(precision+recall))\n",
    "\n",
    "print(\"Tacnost : {:.2f}\".format(accuracy_score(y_test, predicted_test)))\n",
    "print(\"Odziv : {:.2f}\".format(recall))\n",
    "print(\"Preciznost {:.2f}\".format(precision))\n",
    "print(\"F1 rezultat {:.2f}\".format(f1_score))"
   ]
  },
  {
   "cell_type": "code",
   "execution_count": 138,
   "metadata": {},
   "outputs": [
    {
     "name": "stdout",
     "output_type": "stream",
     "text": [
      "Train accuracy:  1.0\n",
      "Validation accuracy:  0.6907216494845361\n",
      "Train accuracy:  0.8370206489675516\n",
      "Validation accuracy:  0.7147766323024055\n",
      "Train accuracy:  0.8443952802359882\n",
      "Validation accuracy:  0.7525773195876289\n",
      "Train accuracy:  0.803834808259587\n",
      "Validation accuracy:  0.7560137457044673\n",
      "Train accuracy:  0.806047197640118\n",
      "Validation accuracy:  0.7680412371134021\n",
      "Train accuracy:  0.7898230088495575\n",
      "Validation accuracy:  0.7542955326460481\n",
      "Train accuracy:  0.7986725663716814\n",
      "Validation accuracy:  0.7663230240549829\n",
      "Train accuracy:  0.7949852507374632\n",
      "Validation accuracy:  0.7422680412371134\n",
      "Train accuracy:  0.7912979351032449\n",
      "Validation accuracy:  0.7560137457044673\n",
      "Train accuracy:  0.7853982300884956\n",
      "Validation accuracy:  0.7508591065292096\n",
      "Train accuracy:  0.7883480825958702\n",
      "Validation accuracy:  0.7525773195876289\n",
      "Train accuracy:  0.7853982300884956\n",
      "Validation accuracy:  0.7457044673539519\n",
      "Train accuracy:  0.7846607669616519\n",
      "Validation accuracy:  0.7542955326460481\n",
      "Train accuracy:  0.7772861356932154\n",
      "Validation accuracy:  0.7508591065292096\n",
      "Train accuracy:  0.7765486725663717\n",
      "Validation accuracy:  0.7542955326460481\n",
      "Train accuracy:  0.7654867256637168\n",
      "Validation accuracy:  0.7439862542955327\n",
      "Train accuracy:  0.7765486725663717\n",
      "Validation accuracy:  0.7508591065292096\n",
      "Train accuracy:  0.7588495575221239\n",
      "Validation accuracy:  0.7560137457044673\n",
      "Train accuracy:  0.7581120943952803\n",
      "Validation accuracy:  0.7457044673539519\n"
     ]
    },
    {
     "data": {
      "image/png": "[encoded data removed]",
      "text/plain": [
       "<Figure size 576x432 with 2 Axes>"
      ]
     },
     "metadata": {
      "needs_background": "light"
     },
     "output_type": "display_data"
    }
   ],
   "source": [
    "x_train, x_test, y_train, y_test = main.prepare() \n",
    "            \n",
    "predicted_train, predicted_test = main.run_KNN(x_train, x_test, y_train, y_test)\n",
    "\n",
    "cm = confusion_matrix(y_test,predicted_test)\n",
    "plot_confusion_matrix(cm, classes=['Benign', 'Malignant'])"
   ]
  },
  {
   "cell_type": "code",
   "execution_count": 139,
   "metadata": {},
   "outputs": [
    {
     "name": "stdout",
     "output_type": "stream",
     "text": [
      "Tacnost : 0.77\n",
      "Odziv : 0.69\n",
      "Preciznost 0.84\n",
      "F1 rezultat 0.76\n"
     ]
    }
   ],
   "source": [
    "tn, fp, fn, tp = cm.ravel()\n",
    "\n",
    "precision = tp/(tp+fp)\n",
    "recall = tp/(tp+fn)\n",
    "f1_score = 2*((precision*recall)/(precision+recall))\n",
    "\n",
    "print(\"Tacnost : {:.2f}\".format(accuracy_score(y_test, predicted_test)))\n",
    "print(\"Odziv : {:.2f}\".format(recall))\n",
    "print(\"Preciznost {:.2f}\".format(precision))\n",
    "print(\"F1 rezultat {:.2f}\".format(f1_score))"
   ]
  },
  {
   "cell_type": "code",
   "execution_count": 171,
   "metadata": {
    "scrolled": false
   },
   "outputs": [
    {
     "name": "stdout",
     "output_type": "stream",
     "text": [
      "Train accuracy:  0.7868731563421829\n",
      "Validation accuracy:  0.7663230240549829\n"
     ]
    },
    {
     "data": {
      "image/png": "[encoded data removed]",
      "text/plain": [
       "<Figure size 576x432 with 2 Axes>"
      ]
     },
     "metadata": {
      "needs_background": "light"
     },
     "output_type": "display_data"
    }
   ],
   "source": [
    "x_train, x_test, y_train, y_test = main.prepare() \n",
    "            \n",
    "predicted_train, predicted_test = main.run_MLP(x_train, x_test, y_train, y_test)\n",
    "\n",
    "cm = confusion_matrix(y_test,predicted_test)\n",
    "plot_confusion_matrix(cm, classes=['Benign', 'Malignant'])"
   ]
  },
  {
   "cell_type": "code",
   "execution_count": 172,
   "metadata": {},
   "outputs": [
    {
     "name": "stdout",
     "output_type": "stream",
     "text": [
      "Tacnost : 0.77\n",
      "Odziv : 0.72\n",
      "Preciznost 0.79\n",
      "F1 rezultat 0.76\n"
     ]
    }
   ],
   "source": [
    "tn, fp, fn, tp = cm.ravel()\n",
    "\n",
    "precision = tp/(tp+fp)\n",
    "recall = tp/(tp+fn)\n",
    "f1_score = 2*((precision*recall)/(precision+recall))\n",
    "\n",
    "print(\"Tacnost : {:.2f}\".format(accuracy_score(y_test, predicted_test)))\n",
    "print(\"Odziv : {:.2f}\".format(recall))\n",
    "print(\"Preciznost {:.2f}\".format(precision))\n",
    "print(\"F1 rezultat {:.2f}\".format(f1_score))"
   ]
  },
  {
   "cell_type": "code",
   "execution_count": null,
   "metadata": {},
   "outputs": [],
   "source": []
  }
 ],
 "metadata": {
  "kernelspec": {
   "display_name": "Python 3",
   "language": "python",
   "name": "python3"
  },
  "language_info": {
   "codemirror_mode": {
    "name": "ipython",
    "version": 3
   },
   "file_extension": ".py",
   "mimetype": "text/x-python",
   "name": "python",
   "nbconvert_exporter": "python",
   "pygments_lexer": "ipython3",
   "version": "3.6.5"
  }
 },
 "nbformat": 4,
 "nbformat_minor": 2
}
